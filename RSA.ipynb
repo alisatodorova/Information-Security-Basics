{
 "cells": [
  {
   "cell_type": "markdown",
   "metadata": {
    "collapsed": false
   },
   "source": [
    "**Alisa Todorova**\n",
    "I am working on MacBook with a newer software version, and SageMath couldn't be downloaded on it. So I did the assignment both on SageMathCell and in Python, just so I can double-check the outputs better."
   ]
  },
  {
   "cell_type": "code",
   "execution_count": null,
   "metadata": {
    "collapsed": false
   },
   "outputs": [],
   "source": [
    "# Task 1 with SageMathCell\n",
    "def keyGen(n=512):\n",
    "    \"Generates an RSA key, where input n is the bitsize n of the RSA modulus N.\"\n",
    "\n",
    "    # Generate two large distinct primes p and q of same bit-size k/2, where k is a parameter.\n",
    "    p = random_prime(2^n)\n",
    "    q = random_prime(2^n)\n",
    "\n",
    "    Nn = p*q\n",
    "\n",
    "    #Select a random integer e such that gcd(e, φ) = 1\n",
    "    e=2^16+1\n",
    "    gcd(e,(p-1)*(q-1))\n",
    "\n",
    "    #Compute the unique integer d such that e · d ≡ 1 (mod φ)\n",
    "    d = inverse_mod(e,(p-1)*(q-1))\n",
    "\n",
    "    return Nn,p,q,e,d\n",
    "\n",
    "keyGen()"
   ]
  },
  {
   "cell_type": "code",
   "execution_count": null,
   "metadata": {
    "collapsed": false
   },
   "outputs": [],
   "source": [
    "# Task 1 in python\n",
    "import sympy\n",
    "import random\n",
    "import math\n",
    "\n",
    "def keyGen(n=512):\n",
    "    \"Generates an RSA key, where input n is the bitsize n of the RSA modulus N.\"\n",
    "\n",
    "    # Generate two large distinct primes p and q of same bit-size k/2, where k is a parameter.\n",
    "    p = sympy.randprime(2**(n-1)+1, 2**n-1)\n",
    "    q = sympy.randprime(2**(n-1)+1, 2**n-1)\n",
    "    # print(f\"p:{p}\")\n",
    "    # print(f\"q:{q}\")\n",
    "    # Smaller numbers for testing:\n",
    "    # p = 17\n",
    "    # q = 11\n",
    "\n",
    "    Nn = p*q\n",
    "    # print(f\"Nn:{Nn}\")\n",
    "    phi = (p-1)*(q-1)\n",
    "    # print(f\"phi:{phi}\")\n",
    "\n",
    "    #Select a random integer e such that gcd(e, φ) = 1\n",
    "    e = random.randint(2, phi-1)\n",
    "    while math.gcd(e, phi) != 1:\n",
    "        e = random.randint(2, phi-1)\n",
    "    # print(f\"e:{e}\")\n",
    "    # Smaller number for testing\n",
    "    # e = 3\n",
    "\n",
    "    #Compute the unique integer d such that e · d ≡ 1 (mod φ)\n",
    "    d = pow(e, phi-1, phi)\n",
    "    # print(f\"d:{d}\")\n",
    "\n",
    "    return Nn,p,q,e,d\n",
    "\n",
    "key = keyGen()\n",
    "print(key)"
   ]
  },
  {
   "cell_type": "code",
   "execution_count": null,
   "metadata": {
    "collapsed": false
   },
   "outputs": [],
   "source": [
    "# Task 2 with SageMathCell\n",
    "def encrypt(m,Nn,e):\n",
    "    c = m.powermod(e,Nn) #c = m^e mod n\n",
    "    return c\n",
    "\n",
    "def decrypt(c,Nn,d):\n",
    "    m = c.powermod(d,Nn) #m = c^d mod n\n",
    "    return m\n",
    "\n",
    "def checkEnc():\n",
    "    Nn,p,q,e,d=keyGen()\n",
    "    m=ZZ.random_element(Nn)\n",
    "    assert(decrypt(encrypt(m,Nn,e),Nn,d)==m)\n",
    "\n",
    "checkEnc()"
   ]
  },
  {
   "cell_type": "code",
   "execution_count": null,
   "metadata": {
    "collapsed": false
   },
   "outputs": [],
   "source": [
    "# Task 2 in python\n",
    "def encrypt(m,Nn,e):\n",
    "    c = (m**e) % Nn #c = m^e mod n\n",
    "    return c\n",
    "\n",
    "def decrypt(c,Nn,d):\n",
    "    m = (c**d) % Nn #m = c^d mod n\n",
    "    return m\n",
    "\n",
    "def checkEnc():\n",
    "    Nn,p,q,e,d=keyGen()\n",
    "    m = 89\n",
    "    c = encrypt(m,Nn,e)\n",
    "    dec = decrypt(c,Nn,d)\n",
    "    print(f\"Encrypted message:{c}\")\n",
    "    print(f\"Decrypted message:{dec}\")\n",
    "\n",
    "checkEnc()\n"
   ]
  },
  {
   "cell_type": "markdown",
   "metadata": {},
   "source": [
    "**Task 3:**\n",
    "Implement the RSA signature scheme with signature σ = H(m)^d mod N, where the output size of the hash function H is the same as the bit size of N, minus 4 bits. For this, we can concatenate the evaluation of a hash function h (for example, SHA-1), using an index for the message, truncating the last block:\n",
    "H(m) = h(m∥0) ∥ h(m∥1)∥ · · · ∥ h(m∥k)"
   ]
  },
  {
   "cell_type": "code",
   "execution_count": null,
   "metadata": {
    "collapsed": false
   },
   "outputs": [],
   "source": [
    "# Task 3 with SageMathCell\n",
    "\n",
    "import hashlib\n",
    "\n",
    "def sha1(m):\n",
    "    h=hashlib.sha1()\n",
    "    h.update(m.encode(\"utf-8\"))\n",
    "    return h.hexdigest()\n",
    "\n",
    "\n",
    "# lN is the length of the modulus in bits\n",
    "def fullHash(m,lN):\n",
    "    k=ceil(lN/160)\n",
    "    hf=\"\".join(sha1(m+str(i)) for i in range(k))\n",
    "    hf=hf[:lN//4-1]\n",
    "    return Integer(hf,base=16)\n",
    "\n",
    "\n",
    "def sign(m,Nn,d):\n",
    "    lN = Nn.nbits()\n",
    "    mu = fullHash(m, lN)\n",
    "    s = pow(mu, d, Nn) #σ = µ(m)^d mod N\n",
    "    return s\n",
    "\n",
    "def verify(s,m,Nn,e):\n",
    "    lN = Nn.nbits()\n",
    "    mu = fullHash(m, lN)\n",
    "    m_check = pow(s, e, Nn) #m = s^e mod N\n",
    "    return mu == m_check\n",
    "\n",
    "def checkSig():\n",
    "    Nn,p,q,e,d=keyGen()\n",
    "    m=\"message\"\n",
    "    assert(verify(sign(m,Nn,d),m,Nn,e))\n",
    "\n",
    "checkSig()"
   ]
  },
  {
   "cell_type": "code",
   "execution_count": null,
   "metadata": {
    "collapsed": false
   },
   "outputs": [],
   "source": [
    "# Task 3 in python\n",
    "\n",
    "import hashlib\n",
    "\n",
    "def sha1(m):\n",
    "    h=hashlib.sha1()\n",
    "    h.update(m.encode(\"utf-8\"))\n",
    "    return h.hexdigest()\n",
    "\n",
    "\n",
    "# lN is the length of the modulus in bits\n",
    "def fullHash(m,lN):\n",
    "    k=math.ceil(lN/160)\n",
    "    hf=\"\".join(sha1(m+str(i)) for i in range(k))\n",
    "    hf=hf[:lN//4-1]\n",
    "    return int(hf,base=16)\n",
    "\n",
    "\n",
    "def sign(m,Nn,d):\n",
    "    lN = Nn.bit_length()\n",
    "    mu = fullHash(m, lN)\n",
    "    s = pow(mu, d, Nn) #σ = µ(m)^d mod N\n",
    "    return s\n",
    "\n",
    "def verify(s,m,Nn,e):\n",
    "    lN = Nn.bit_length()\n",
    "    mu = fullHash(m, lN)\n",
    "    m_check = pow(s, e, Nn) #m = s^e mod N\n",
    "    return mu == m_check\n",
    "\n",
    "def checkSig():\n",
    "    Nn,p,q,e,d=keyGen()\n",
    "    m=\"message\"\n",
    "    s = sign(m,Nn,d)\n",
    "    print(f\"sign:{s}\")\n",
    "    v = verify(s,m,Nn,e)\n",
    "    print(f\"verify:{v}\")\n",
    "    assert(verify(sign(m,Nn,d),m,Nn,e))\n",
    "\n",
    "checkSig()\n"
   ]
  },
  {
   "cell_type": "code",
   "execution_count": null,
   "metadata": {
    "collapsed": false
   },
   "outputs": [],
   "source": []
  }
 ],
 "metadata": {
  "language_info": {
   "name": "python"
  }
 },
 "nbformat": 4,
 "nbformat_minor": 2
}
